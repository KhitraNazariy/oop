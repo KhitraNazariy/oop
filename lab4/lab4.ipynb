{
 "cells": [
  {
   "cell_type": "markdown",
   "metadata": {},
   "source": [
    "Типи даних"
   ]
  },
  {
   "cell_type": "code",
   "execution_count": 4,
   "metadata": {},
   "outputs": [
    {
     "name": "stdout",
     "output_type": "stream",
     "text": [
      " строка - text\n",
      " число - 1\n",
      " список - ['a', 1, 1.25, 'Слово']\n",
      " словник - {'a': 'Слово', 'b': 1}\n",
      " сет - ('a', 'c', 'b')\n"
     ]
    }
   ],
   "source": [
    "str = 'text'\n",
    "int = 1\n",
    "list = ['a', 1, 1.25, 'Слово']\n",
    "dict = {'a': 'Слово', 'b': 1}\n",
    "set = ('a', 'c', 'b',)\n",
    "\n",
    "print(f' строка - {str}')\n",
    "print(f' число - {int}')\n",
    "print(f' список - {list}')\n",
    "print(f' словник - {dict}')\n",
    "print(f' сет - {set}')"
   ]
  },
  {
   "cell_type": "markdown",
   "metadata": {},
   "source": [
    "Вбудовані константи"
   ]
  },
  {
   "cell_type": "code",
   "execution_count": 5,
   "metadata": {},
   "outputs": [
    {
     "name": "stdout",
     "output_type": "stream",
     "text": [
      "True\n",
      "False\n"
     ]
    }
   ],
   "source": [
    "print(True)\n",
    "print(False)"
   ]
  },
  {
   "cell_type": "markdown",
   "metadata": {},
   "source": [
    "Вбудовані функції"
   ]
  },
  {
   "cell_type": "code",
   "execution_count": 11,
   "metadata": {},
   "outputs": [
    {
     "name": "stdout",
     "output_type": "stream",
     "text": [
      "12.5 є рівним 12.5\n",
      "33.3\n"
     ]
    }
   ],
   "source": [
    "print(abs(-12.5), f\"є рівним {abs(12.5)}\")\n",
    "print(round(33.332533, 1))"
   ]
  },
  {
   "cell_type": "markdown",
   "metadata": {},
   "source": [
    "Цикли"
   ]
  },
  {
   "cell_type": "code",
   "execution_count": 15,
   "metadata": {},
   "outputs": [
    {
     "name": "stdout",
     "output_type": "stream",
     "text": [
      "На позиції 0 знаходиться буква a\n",
      "На позиції 1 знаходиться буква b\n",
      "На позиції 2 знаходиться буква c\n",
      "123 - 22 = 101\n",
      "101 - 22 = 79\n",
      "79 - 22 = 57\n",
      "57 - 22 = 35\n",
      "35 - 22 = 13\n"
     ]
    }
   ],
   "source": [
    "letters = [\"a\", \"b\", \"c\"]\n",
    "for i in range(len(letters)):\n",
    "    print(f\"На позиції {i} знаходиться буква {letters[i]}\")\n",
    "\n",
    "num = 123\n",
    "while num > 20:\n",
    "    print(f'{num} - 22 = {num-22}')\n",
    "    num-=22"
   ]
  },
  {
   "cell_type": "markdown",
   "metadata": {},
   "source": [
    "Розгалуження"
   ]
  },
  {
   "cell_type": "code",
   "execution_count": 19,
   "metadata": {},
   "outputs": [
    {
     "name": "stdout",
     "output_type": "stream",
     "text": [
      "А=True\n",
      "Виконається\n"
     ]
    }
   ],
   "source": [
    "A = True\n",
    "print(\"А=True\" if A else \"А=False\")\n",
    "A = 5\n",
    "if A > 5:\n",
    "    print(\"Не виконається\")\n",
    "elif A == 1:\n",
    "    print(\"Не виконається\")\n",
    "elif A != 2:\n",
    "    print(\"Виконається\")\n",
    "else:\n",
    "    print(\"гарантовано фолс\")"
   ]
  },
  {
   "cell_type": "markdown",
   "metadata": {},
   "source": [
    "Конструкція try->except->finally"
   ]
  },
  {
   "cell_type": "code",
   "execution_count": 23,
   "metadata": {},
   "outputs": [
    {
     "name": "stdout",
     "output_type": "stream",
     "text": [
      "Сталася помилка!!, ми виконали raise\n",
      "Сталася помилка!! =>>  division by zero\n",
      "Випадковий вибір Str\n",
      "Сталася помилка!! =>>  unsupported operand type(s) for /: 'int' and 'str'\n",
      "Це виведеться завждиб чи є помилка чи її немає\n"
     ]
    }
   ],
   "source": [
    "try:\n",
    "    print(\"Що буде якщо\", 10/A, \"?\")\n",
    "except Exception as e:\n",
    "    print(\"Сталася помилка!! =>> \", e)\n",
    "import random\n",
    "A = random.choice([\"Str\", 15, 0])\n",
    "print(f\"Випадковий вибір {A}\")\n",
    "try:\n",
    "    print(\"Що буде якщо\", 10/A, \"?\")\n",
    "    #print(non_exist_variable)\\n\",\n",
    "    print(\"Це без помилок\")\n",
    "except (ZeroDivisionError, NameError, TypeError) as e:\n",
    "    print(\"Сталася помилка!! =>> \", e)\n",
    "finally:\n",
    "    print(\"Це виведеться завждиб чи є помилка чи її немає\")"
   ]
  },
  {
   "cell_type": "markdown",
   "metadata": {},
   "source": [
    "Контекст-менеджер"
   ]
  },
  {
   "cell_type": "code",
   "execution_count": 30,
   "metadata": {},
   "outputs": [],
   "source": [
    "with open(\"README.md\", \"r\") as f:\n",
    "    for line in f:\n",
    "        print(line)"
   ]
  },
  {
   "cell_type": "markdown",
   "metadata": {},
   "source": [
    "lambdas"
   ]
  },
  {
   "cell_type": "code",
   "execution_count": 31,
   "metadata": {},
   "outputs": [
    {
     "name": "stdout",
     "output_type": "stream",
     "text": [
      "Це просто функція: <function <lambda> at 0x0000026EB7D40EE0>\n",
      "квадратний корінь числа 25 = 5.0\n"
     ]
    }
   ],
   "source": [
    "sqrt = lambda x: x**0.5\n",
    "\n",
    "print(\"Це просто функція:\", sqrt)\n",
    "print(f'квадратний корінь числа 25 = {sqrt(25)}')"
   ]
  }
 ],
 "metadata": {
  "kernelspec": {
   "display_name": "Python 3.10.2 64-bit",
   "language": "python",
   "name": "python3"
  },
  "language_info": {
   "codemirror_mode": {
    "name": "ipython",
    "version": 3
   },
   "file_extension": ".py",
   "mimetype": "text/x-python",
   "name": "python",
   "nbconvert_exporter": "python",
   "pygments_lexer": "ipython3",
   "version": "3.10.2"
  },
  "orig_nbformat": 4,
  "vscode": {
   "interpreter": {
    "hash": "a42ccb73e7d9bfdf27e036f1d2b8b681e55fc0743cc5586bc2474d4a60f4b886"
   }
  }
 },
 "nbformat": 4,
 "nbformat_minor": 2
}
